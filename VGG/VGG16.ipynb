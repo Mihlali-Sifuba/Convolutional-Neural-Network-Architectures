{
  "nbformat": 4,
  "nbformat_minor": 0,
  "metadata": {
    "colab": {
      "provenance": []
    },
    "kernelspec": {
      "name": "python3",
      "display_name": "Python 3"
    },
    "language_info": {
      "name": "python"
    },
    "accelerator": "GPU",
    "gpuClass": "standard"
  },
  "cells": [
    {
      "cell_type": "code",
      "execution_count": 1,
      "metadata": {
        "id": "AtspGKMi9m2x"
      },
      "outputs": [],
      "source": [
        "# Date    : 19/02/2023\n",
        "# Author  : Sivuyile Sifuba\n",
        "# Email   : sivuyilesifuba@gmail.com\n",
        "\n",
        "# References\n",
        "# [1] Simonyan, K., & Zisserman, A. (2015). Very deep convolutional networks for large-scale image recognition. 3rd International Conference on Learning Representations (ICLR 2015), 1–14.\n"
      ]
    },
    {
      "cell_type": "code",
      "source": [
        "import numpy as np\n",
        "from tensorflow.keras.models import Model\n",
        "from tensorflow.keras import Input\n",
        "from tensorflow.keras.layers import Conv2D, MaxPool2D, Flatten, Dense \n",
        "from tensorflow.keras.datasets import mnist\n",
        "from tensorflow.keras.utils import set_random_seed, to_categorical"
      ],
      "metadata": {
        "id": "cBNDwtfj9vxI"
      },
      "execution_count": 2,
      "outputs": []
    },
    {
      "cell_type": "code",
      "source": [
        "# load MNIST dataset\n",
        "(x_train, y_train), (x_test, y_test) = mnist.load_data()"
      ],
      "metadata": {
        "colab": {
          "base_uri": "https://localhost:8080/"
        },
        "id": "P1rFDBEW92hA",
        "outputId": "a6937676-16ca-4776-9df5-db49aa1bb0f7"
      },
      "execution_count": 3,
      "outputs": [
        {
          "output_type": "stream",
          "name": "stdout",
          "text": [
            "Downloading data from https://storage.googleapis.com/tensorflow/tf-keras-datasets/mnist.npz\n",
            "11490434/11490434 [==============================] - 0s 0us/step\n"
          ]
        }
      ]
    },
    {
      "cell_type": "code",
      "source": [
        "# from sparse label to categorical\n",
        "num_labels = len(np.unique(y_train))\n",
        "y_train = to_categorical(y_train)\n",
        "y_test = to_categorical(y_test)\n",
        "\n",
        "# reshape input images\n",
        "image_size = x_train.shape[1]\n",
        "x_train = np.reshape(x_train,[-1, image_size, image_size, 1])\n",
        "x_test = np.reshape(x_test,[-1, image_size, image_size, 1])"
      ],
      "metadata": {
        "id": "UkdVRNzM99Y3"
      },
      "execution_count": 4,
      "outputs": []
    },
    {
      "cell_type": "code",
      "source": [
        "# This ensures that the model is deterministic\n",
        "set_random_seed(seed=6)\n",
        "\n",
        "# The model implementations is as described in the paper Very Deep Convolutional Networks for Large-Scale Image Recognition. The Model is a 16 weight layer \n",
        "# architecture also known as VGG-16. We have chosen to implement the 16 weight layer architecture that includes the 1x1 convolution layer in order to \n",
        "# enhance the non-linear characteristics of the decision function [1]. The network will be used to classify MNIST digits. In contrast to the original network\n",
        "# we have opted for using the ADAM optimizer instead of SGD.\n",
        "\n",
        "# VGG-16\n",
        "model_input = Input(shape=(image_size, image_size, 1))\n",
        "x = Conv2D(filters=64, kernel_size=(3,3), strides=(1, 1), activation='relu')(model_input)\n",
        "x = Conv2D(filters=64, kernel_size=(3,3), strides=(1, 1), padding='same', activation='relu')(x)\n",
        "x = MaxPool2D(pool_size=(2, 2), strides=2)(x)\n",
        "\n",
        "x = Conv2D(filters=128, kernel_size=(3,3), strides=(1, 1), padding='same', activation='relu')(x)\n",
        "x = Conv2D(filters=128, kernel_size=(3,3), strides=(1, 1), padding='same', activation='relu')(x)\n",
        "x = MaxPool2D(pool_size=(2, 2), strides=2)(x)\n",
        "\n",
        "x = Conv2D(filters=256, kernel_size=(3,3), strides=(1, 1), padding='same', activation='relu')(x)\n",
        "x = Conv2D(filters=256, kernel_size=(3,3), strides=(1, 1), padding='same', activation='relu')(x)\n",
        "x = Conv2D(filters=256, kernel_size=(1,1), strides=(1, 1), padding='same', activation='relu')(x)\n",
        "x = MaxPool2D(pool_size=(2, 2), strides=2)(x)\n",
        "\n",
        "x = Conv2D(filters=512, kernel_size=(3,3), strides=(1, 1), padding='same', activation='relu')(x)\n",
        "x = Conv2D(filters=512, kernel_size=(3,3), strides=(1, 1), padding='same', activation='relu')(x)\n",
        "x = Conv2D(filters=512, kernel_size=(1,1), strides=(1, 1), padding='same', activation='relu')(x)\n",
        "x = MaxPool2D(pool_size=(2, 2), strides=2)(x)\n",
        "\n",
        "x = Conv2D(filters=512, kernel_size=(3,3), strides=(1, 1), padding='same', activation='relu')(x)\n",
        "x = Conv2D(filters=512, kernel_size=(3,3), strides=(1, 1), padding='same', activation='relu')(x)\n",
        "x = Conv2D(filters=512, kernel_size=(1,1), strides=(1, 1), padding='same', activation='relu')(x)\n",
        "#x = MaxPool2D(pool_size=(2, 2), strides=2)(x)\n",
        "\n",
        "x = Flatten()(x)\n",
        "\n",
        "x = Dense(units=128, activation='relu')(x)\n",
        "x = Dense(units=128, activation='relu')(x)\n",
        "model_output  = Dense(units=10, activation='softmax')(x)\n",
        "\n",
        "# Create a Keras Model\n",
        "VGG16 = Model(inputs=model_input , outputs=model_output)\n",
        "VGG16.summary()\n",
        "VGG16.compile(loss='categorical_crossentropy',\n",
        "              optimizer='adam',\n",
        "              metrics=['accuracy'])\n",
        "\n",
        "# Train the model with input images and labels\n",
        "VGG16.fit(x=x_train,\n",
        "          y=y_train,\n",
        "          validation_data=(x_test, y_test),\n",
        "          epochs=20,\n",
        "          batch_size=32)\n",
        "\n",
        "# model accuracy on test dataset\n",
        "score = VGG16.evaluate(x_test,\n",
        "                       y_test,\n",
        "                       batch_size=32,\n",
        "                       verbose=0)\n",
        "print(\"\\nTest accuracy: %.1f%%\" % (100.0 * score[1]))"
      ],
      "metadata": {
        "colab": {
          "base_uri": "https://localhost:8080/"
        },
        "id": "DMYBVTlY_QZb",
        "outputId": "13bcab5a-605f-433b-c5b6-bb5effa2c13c"
      },
      "execution_count": 5,
      "outputs": [
        {
          "output_type": "stream",
          "name": "stdout",
          "text": [
            "Model: \"model\"\n",
            "_________________________________________________________________\n",
            " Layer (type)                Output Shape              Param #   \n",
            "=================================================================\n",
            " input_1 (InputLayer)        [(None, 28, 28, 1)]       0         \n",
            "                                                                 \n",
            " conv2d (Conv2D)             (None, 26, 26, 64)        640       \n",
            "                                                                 \n",
            " conv2d_1 (Conv2D)           (None, 26, 26, 64)        36928     \n",
            "                                                                 \n",
            " max_pooling2d (MaxPooling2D  (None, 13, 13, 64)       0         \n",
            " )                                                               \n",
            "                                                                 \n",
            " conv2d_2 (Conv2D)           (None, 13, 13, 128)       73856     \n",
            "                                                                 \n",
            " conv2d_3 (Conv2D)           (None, 13, 13, 128)       147584    \n",
            "                                                                 \n",
            " max_pooling2d_1 (MaxPooling  (None, 6, 6, 128)        0         \n",
            " 2D)                                                             \n",
            "                                                                 \n",
            " conv2d_4 (Conv2D)           (None, 6, 6, 256)         295168    \n",
            "                                                                 \n",
            " conv2d_5 (Conv2D)           (None, 6, 6, 256)         590080    \n",
            "                                                                 \n",
            " conv2d_6 (Conv2D)           (None, 6, 6, 256)         65792     \n",
            "                                                                 \n",
            " max_pooling2d_2 (MaxPooling  (None, 3, 3, 256)        0         \n",
            " 2D)                                                             \n",
            "                                                                 \n",
            " conv2d_7 (Conv2D)           (None, 3, 3, 512)         1180160   \n",
            "                                                                 \n",
            " conv2d_8 (Conv2D)           (None, 3, 3, 512)         2359808   \n",
            "                                                                 \n",
            " conv2d_9 (Conv2D)           (None, 3, 3, 512)         262656    \n",
            "                                                                 \n",
            " max_pooling2d_3 (MaxPooling  (None, 1, 1, 512)        0         \n",
            " 2D)                                                             \n",
            "                                                                 \n",
            " conv2d_10 (Conv2D)          (None, 1, 1, 512)         2359808   \n",
            "                                                                 \n",
            " conv2d_11 (Conv2D)          (None, 1, 1, 512)         2359808   \n",
            "                                                                 \n",
            " conv2d_12 (Conv2D)          (None, 1, 1, 512)         262656    \n",
            "                                                                 \n",
            " flatten (Flatten)           (None, 512)               0         \n",
            "                                                                 \n",
            " dense (Dense)               (None, 128)               65664     \n",
            "                                                                 \n",
            " dense_1 (Dense)             (None, 128)               16512     \n",
            "                                                                 \n",
            " dense_2 (Dense)             (None, 10)                1290      \n",
            "                                                                 \n",
            "=================================================================\n",
            "Total params: 10,078,410\n",
            "Trainable params: 10,078,410\n",
            "Non-trainable params: 0\n",
            "_________________________________________________________________\n",
            "Epoch 1/20\n",
            "1875/1875 [==============================] - 53s 20ms/step - loss: 0.4770 - accuracy: 0.8485 - val_loss: 0.2145 - val_accuracy: 0.9635\n",
            "Epoch 2/20\n",
            "1875/1875 [==============================] - 37s 20ms/step - loss: 0.1320 - accuracy: 0.9714 - val_loss: 0.1166 - val_accuracy: 0.9769\n",
            "Epoch 3/20\n",
            "1875/1875 [==============================] - 38s 20ms/step - loss: 0.1209 - accuracy: 0.9745 - val_loss: 0.0752 - val_accuracy: 0.9817\n",
            "Epoch 4/20\n",
            "1875/1875 [==============================] - 37s 20ms/step - loss: 0.0832 - accuracy: 0.9819 - val_loss: 0.0600 - val_accuracy: 0.9888\n",
            "Epoch 5/20\n",
            "1875/1875 [==============================] - 37s 20ms/step - loss: 0.1077 - accuracy: 0.9784 - val_loss: 0.0800 - val_accuracy: 0.9839\n",
            "Epoch 6/20\n",
            "1875/1875 [==============================] - 38s 20ms/step - loss: 0.0773 - accuracy: 0.9840 - val_loss: 0.0460 - val_accuracy: 0.9888\n",
            "Epoch 7/20\n",
            "1875/1875 [==============================] - 37s 20ms/step - loss: 0.0646 - accuracy: 0.9867 - val_loss: 0.0637 - val_accuracy: 0.9835\n",
            "Epoch 8/20\n",
            "1875/1875 [==============================] - 38s 20ms/step - loss: 0.0672 - accuracy: 0.9854 - val_loss: 0.0562 - val_accuracy: 0.9899\n",
            "Epoch 9/20\n",
            "1875/1875 [==============================] - 38s 20ms/step - loss: 0.0727 - accuracy: 0.9848 - val_loss: 0.0997 - val_accuracy: 0.9870\n",
            "Epoch 10/20\n",
            "1875/1875 [==============================] - 37s 20ms/step - loss: 0.0766 - accuracy: 0.9850 - val_loss: 0.0696 - val_accuracy: 0.9854\n",
            "Epoch 11/20\n",
            "1875/1875 [==============================] - 38s 20ms/step - loss: 0.0657 - accuracy: 0.9874 - val_loss: 0.0527 - val_accuracy: 0.9871\n",
            "Epoch 12/20\n",
            "1875/1875 [==============================] - 38s 20ms/step - loss: 0.0577 - accuracy: 0.9880 - val_loss: 0.0662 - val_accuracy: 0.9880\n",
            "Epoch 13/20\n",
            "1875/1875 [==============================] - 37s 20ms/step - loss: 0.0676 - accuracy: 0.9881 - val_loss: 0.1012 - val_accuracy: 0.9732\n",
            "Epoch 14/20\n",
            "1875/1875 [==============================] - 37s 20ms/step - loss: 0.0942 - accuracy: 0.9826 - val_loss: 0.0860 - val_accuracy: 0.9864\n",
            "Epoch 15/20\n",
            "1875/1875 [==============================] - 37s 20ms/step - loss: 0.0973 - accuracy: 0.9813 - val_loss: 0.0692 - val_accuracy: 0.9843\n",
            "Epoch 16/20\n",
            "1875/1875 [==============================] - 37s 20ms/step - loss: 0.0448 - accuracy: 0.9904 - val_loss: 0.0609 - val_accuracy: 0.9878\n",
            "Epoch 17/20\n",
            "1875/1875 [==============================] - 38s 20ms/step - loss: 0.0443 - accuracy: 0.9909 - val_loss: 0.0522 - val_accuracy: 0.9914\n",
            "Epoch 18/20\n",
            "1875/1875 [==============================] - 37s 20ms/step - loss: 0.0643 - accuracy: 0.9876 - val_loss: 0.0602 - val_accuracy: 0.9885\n",
            "Epoch 19/20\n",
            "1875/1875 [==============================] - 37s 20ms/step - loss: 0.8985 - accuracy: 0.7041 - val_loss: 1.8732 - val_accuracy: 0.3682\n",
            "Epoch 20/20\n",
            "1875/1875 [==============================] - 37s 20ms/step - loss: 1.2825 - accuracy: 0.5173 - val_loss: 1.5685 - val_accuracy: 0.3764\n",
            "\n",
            "Test accuracy: 37.6%\n"
          ]
        }
      ]
    }
  ]
}