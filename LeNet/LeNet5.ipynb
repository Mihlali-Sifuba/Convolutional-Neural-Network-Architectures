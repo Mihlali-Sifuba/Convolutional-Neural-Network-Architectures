{
  "nbformat": 4,
  "nbformat_minor": 0,
  "metadata": {
    "colab": {
      "provenance": []
    },
    "kernelspec": {
      "name": "python3",
      "display_name": "Python 3"
    },
    "language_info": {
      "name": "python"
    }
  },
  "cells": [
    {
      "cell_type": "code",
      "execution_count": 24,
      "metadata": {
        "id": "iQn2l1dA1fl1"
      },
      "outputs": [],
      "source": [
        "import numpy as np\n",
        "from tensorflow.keras.models import Model\n",
        "from tensorflow.keras import Input\n",
        "from tensorflow.keras.layers import ZeroPadding2D, Conv2D, AveragePooling2D, Flatten, Dense \n",
        "from tensorflow.keras.datasets import mnist\n",
        "from tensorflow.keras.utils import plot_model, set_random_seed, to_categorical"
      ]
    },
    {
      "cell_type": "code",
      "source": [
        "# load MNIST dataset\n",
        "(x_train, y_train), (x_test, y_test) = mnist.load_data()"
      ],
      "metadata": {
        "id": "2lbw-zNpIi_R"
      },
      "execution_count": 20,
      "outputs": []
    },
    {
      "cell_type": "code",
      "source": [
        "# from sparse label to categorical\n",
        "num_labels = len(np.unique(y_train))\n",
        "y_train = to_categorical(y_train)\n",
        "y_test = to_categorical(y_test)\n",
        "\n",
        "# reshape input images\n",
        "image_size = x_train.shape[1]\n",
        "x_train = np.reshape(x_train,[-1, image_size, image_size, 1])\n",
        "x_test = np.reshape(x_test,[-1, image_size, image_size, 1])"
      ],
      "metadata": {
        "id": "96cIhlKAIyE2"
      },
      "execution_count": 21,
      "outputs": []
    },
    {
      "cell_type": "code",
      "source": [
        "# This ensures that the model is deterministic\n",
        "set_random_seed(seed=6)\n",
        "\n",
        "#Model definition according to https://www.analyticsvidhya.com/blog/2021/03/the-architecture-of-lenet-5/\n",
        "model_input = Input(shape=(28, 28, 1))\n",
        "# (28, 28, 1)\n",
        "x = ZeroPadding2D(padding=(2, 2), data_format='channels_last')(model_input)\n",
        "# (32, 32, 1)\n",
        "x = Conv2D(filters=6, kernel_size=(5,5), strides=(1, 1), activation='tanh')(x)\n",
        "# (28, 28, 6)\n",
        "x = AveragePooling2D(pool_size=(2, 2), strides=(2, 2))(x)\n",
        "# (14, 14, 6)\n",
        "x = Conv2D(filters=16, kernel_size=(5,5), strides=(1, 1), activation='tanh')(x)\n",
        "# (10, 10, 16)\n",
        "x = AveragePooling2D(pool_size=(2, 2), strides=(2, 2))(x)\n",
        "# (5, 5, 16)\n",
        "x = Conv2D(filters=120, kernel_size=(5,5), strides=(1, 1), activation='tanh')(x)\n",
        "# (1, 1, 120)\n",
        "x = Flatten()(x)\n",
        "# (120)\n",
        "x = Dense(units=84, activation='tanh')(x)\n",
        "# (84)\n",
        "model_output  = Dense(units=10, activation='softmax')(x)\n",
        "# (10)\n",
        "\n",
        "# Create a Keras Model\n",
        "LeNet = Model(inputs=model_input , outputs=model_output)\n",
        "LeNet.summary()\n",
        "LeNet.compile(loss='categorical_crossentropy',\n",
        "              optimizer='adam',\n",
        "              metrics=['accuracy'])\n",
        "\n",
        "# Train the model with input images and labels\n",
        "LeNet.fit(x=x_train,\n",
        "          y=y_train,\n",
        "          validation_data=(x_test, y_test),\n",
        "          epochs=20,\n",
        "          batch_size=32)\n",
        "\n",
        "# model accuracy on test dataset\n",
        "score = LeNet.evaluate(x_test,\n",
        "                       y_test,\n",
        "                       batch_size=32,\n",
        "                       verbose=0)\n",
        "print(\"\\nTest accuracy: %.1f%%\" % (100.0 * score[1]))"
      ],
      "metadata": {
        "colab": {
          "base_uri": "https://localhost:8080/"
        },
        "id": "2kGSGOziH_qM",
        "outputId": "82ccf6b5-e48c-413d-c498-d47cc2b7d173"
      },
      "execution_count": 25,
      "outputs": [
        {
          "output_type": "stream",
          "name": "stdout",
          "text": [
            "Model: \"model_5\"\n",
            "_________________________________________________________________\n",
            " Layer (type)                Output Shape              Param #   \n",
            "=================================================================\n",
            " input_6 (InputLayer)        [(None, 28, 28, 1)]       0         \n",
            "                                                                 \n",
            " zero_padding2d_9 (ZeroPaddi  (None, 32, 32, 1)        0         \n",
            " ng2D)                                                           \n",
            "                                                                 \n",
            " conv2d_15 (Conv2D)          (None, 28, 28, 6)         156       \n",
            "                                                                 \n",
            " average_pooling2d_10 (Avera  (None, 14, 14, 6)        0         \n",
            " gePooling2D)                                                    \n",
            "                                                                 \n",
            " conv2d_16 (Conv2D)          (None, 10, 10, 16)        2416      \n",
            "                                                                 \n",
            " average_pooling2d_11 (Avera  (None, 5, 5, 16)         0         \n",
            " gePooling2D)                                                    \n",
            "                                                                 \n",
            " conv2d_17 (Conv2D)          (None, 1, 1, 120)         48120     \n",
            "                                                                 \n",
            " flatten (Flatten)           (None, 120)               0         \n",
            "                                                                 \n",
            " dense_12 (Dense)            (None, 84)                10164     \n",
            "                                                                 \n",
            " dense_13 (Dense)            (None, 10)                850       \n",
            "                                                                 \n",
            "=================================================================\n",
            "Total params: 61,706\n",
            "Trainable params: 61,706\n",
            "Non-trainable params: 0\n",
            "_________________________________________________________________\n",
            "Epoch 1/20\n",
            "1875/1875 [==============================] - 42s 22ms/step - loss: 0.1417 - accuracy: 0.9576 - val_loss: 0.0689 - val_accuracy: 0.9776\n",
            "Epoch 2/20\n",
            "1875/1875 [==============================] - 41s 22ms/step - loss: 0.0616 - accuracy: 0.9817 - val_loss: 0.0461 - val_accuracy: 0.9845\n",
            "Epoch 3/20\n",
            "1875/1875 [==============================] - 41s 22ms/step - loss: 0.0448 - accuracy: 0.9861 - val_loss: 0.0476 - val_accuracy: 0.9844\n",
            "Epoch 4/20\n",
            "1875/1875 [==============================] - 41s 22ms/step - loss: 0.0389 - accuracy: 0.9876 - val_loss: 0.0400 - val_accuracy: 0.9861\n",
            "Epoch 5/20\n",
            "1875/1875 [==============================] - 41s 22ms/step - loss: 0.0328 - accuracy: 0.9897 - val_loss: 0.0484 - val_accuracy: 0.9846\n",
            "Epoch 6/20\n",
            "1875/1875 [==============================] - 41s 22ms/step - loss: 0.0280 - accuracy: 0.9908 - val_loss: 0.0421 - val_accuracy: 0.9868\n",
            "Epoch 7/20\n",
            "1875/1875 [==============================] - 41s 22ms/step - loss: 0.0256 - accuracy: 0.9918 - val_loss: 0.0400 - val_accuracy: 0.9879\n",
            "Epoch 8/20\n",
            "1875/1875 [==============================] - 41s 22ms/step - loss: 0.0206 - accuracy: 0.9932 - val_loss: 0.0389 - val_accuracy: 0.9882\n",
            "Epoch 9/20\n",
            "1875/1875 [==============================] - 41s 22ms/step - loss: 0.0217 - accuracy: 0.9929 - val_loss: 0.0390 - val_accuracy: 0.9877\n",
            "Epoch 10/20\n",
            "1875/1875 [==============================] - 41s 22ms/step - loss: 0.0200 - accuracy: 0.9928 - val_loss: 0.0417 - val_accuracy: 0.9867\n",
            "Epoch 11/20\n",
            "1875/1875 [==============================] - 41s 22ms/step - loss: 0.0173 - accuracy: 0.9942 - val_loss: 0.0410 - val_accuracy: 0.9869\n",
            "Epoch 12/20\n",
            "1875/1875 [==============================] - 41s 22ms/step - loss: 0.0170 - accuracy: 0.9943 - val_loss: 0.0436 - val_accuracy: 0.9881\n",
            "Epoch 13/20\n",
            "1875/1875 [==============================] - 41s 22ms/step - loss: 0.0181 - accuracy: 0.9938 - val_loss: 0.0487 - val_accuracy: 0.9859\n",
            "Epoch 14/20\n",
            "1875/1875 [==============================] - 41s 22ms/step - loss: 0.0161 - accuracy: 0.9947 - val_loss: 0.0483 - val_accuracy: 0.9863\n",
            "Epoch 15/20\n",
            "1875/1875 [==============================] - 41s 22ms/step - loss: 0.0135 - accuracy: 0.9956 - val_loss: 0.0392 - val_accuracy: 0.9891\n",
            "Epoch 16/20\n",
            "1875/1875 [==============================] - 41s 22ms/step - loss: 0.0142 - accuracy: 0.9956 - val_loss: 0.0379 - val_accuracy: 0.9894\n",
            "Epoch 17/20\n",
            "1875/1875 [==============================] - 41s 22ms/step - loss: 0.0125 - accuracy: 0.9955 - val_loss: 0.0409 - val_accuracy: 0.9889\n",
            "Epoch 18/20\n",
            "1875/1875 [==============================] - 41s 22ms/step - loss: 0.0128 - accuracy: 0.9956 - val_loss: 0.0384 - val_accuracy: 0.9891\n",
            "Epoch 19/20\n",
            "1875/1875 [==============================] - 41s 22ms/step - loss: 0.0109 - accuracy: 0.9962 - val_loss: 0.0389 - val_accuracy: 0.9901\n",
            "Epoch 20/20\n",
            "1875/1875 [==============================] - 41s 22ms/step - loss: 0.0109 - accuracy: 0.9963 - val_loss: 0.0362 - val_accuracy: 0.9905\n",
            "\n",
            "Test accuracy: 99.0%\n"
          ]
        }
      ]
    },
    {
      "cell_type": "code",
      "source": [
        "y_train.shape"
      ],
      "metadata": {
        "colab": {
          "base_uri": "https://localhost:8080/"
        },
        "id": "DgTGc80jMqJI",
        "outputId": "6f1ddac3-4342-497a-f593-67d8f05571cf"
      },
      "execution_count": null,
      "outputs": [
        {
          "output_type": "execute_result",
          "data": {
            "text/plain": [
              "(60000, 10)"
            ]
          },
          "metadata": {},
          "execution_count": 18
        }
      ]
    },
    {
      "cell_type": "code",
      "source": [],
      "metadata": {
        "colab": {
          "base_uri": "https://localhost:8080/"
        },
        "id": "-ncOo957IBY1",
        "outputId": "707e55ae-0b95-4fec-d49c-309ab73a7317"
      },
      "execution_count": null,
      "outputs": [
        {
          "output_type": "execute_result",
          "data": {
            "text/plain": [
              "TensorShape([1, 32, 32, 1])"
            ]
          },
          "metadata": {},
          "execution_count": 10
        }
      ]
    }
  ]
}