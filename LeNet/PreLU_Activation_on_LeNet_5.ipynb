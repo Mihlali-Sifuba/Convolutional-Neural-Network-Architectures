{
  "nbformat": 4,
  "nbformat_minor": 0,
  "metadata": {
    "colab": {
      "provenance": []
    },
    "kernelspec": {
      "name": "python3",
      "display_name": "Python 3"
    },
    "language_info": {
      "name": "python"
    }
  },
  "cells": [
    {
      "cell_type": "code",
      "execution_count": 1,
      "metadata": {
        "id": "Cfgbd7zLEj54"
      },
      "outputs": [],
      "source": [
        "# Date    : 20/02/2023\n",
        "# Author  : Sivuyile Sifuba\n",
        "# Email   : sivuyilesifuba@gmail.com\n",
        "\n",
        "# References\n",
        "# [1] “Lenet-5 | Lenet-5 Architecture | Introduction to Lenet-5,” Analytics Vidhya,\n",
        "# Mar. 18, 2021. https://www.analyticsvidhya.com/blog/2021/03/the-architecture-of-lenet-5/\n",
        "#\n",
        "# [2] He, Kaiming & Zhang, Xiangyu & Ren, Shaoqing & Sun, Jian. (2015). \n",
        "# Delving Deep into Rectifiers: Surpassing Human-Level Performance on ImageNet \n",
        "# Classification. IEEE International Conference on Computer Vision (ICCV 2015). \n",
        "# 1502. 10.1109/ICCV.2015.123."
      ]
    },
    {
      "cell_type": "code",
      "source": [
        "import numpy as np\n",
        "from tensorflow.keras.models import Model\n",
        "from tensorflow.keras import Input\n",
        "from tensorflow.keras.layers import ZeroPadding2D, Conv2D, PReLU, AveragePooling2D, Flatten, Dense \n",
        "from tensorflow.keras.datasets import mnist\n",
        "from tensorflow.keras.utils import set_random_seed, to_categorical"
      ],
      "metadata": {
        "id": "ThJea725FcbX"
      },
      "execution_count": 5,
      "outputs": []
    },
    {
      "cell_type": "code",
      "source": [
        "# load MNIST dataset\n",
        "(x_train, y_train), (x_test, y_test) = mnist.load_data()"
      ],
      "metadata": {
        "colab": {
          "base_uri": "https://localhost:8080/"
        },
        "id": "JkY_c4L8Fj8R",
        "outputId": "98cdf344-9b6d-4932-fe1b-da338ca8ac57"
      },
      "execution_count": 3,
      "outputs": [
        {
          "output_type": "stream",
          "name": "stdout",
          "text": [
            "Downloading data from https://storage.googleapis.com/tensorflow/tf-keras-datasets/mnist.npz\n",
            "11490434/11490434 [==============================] - 0s 0us/step\n"
          ]
        }
      ]
    },
    {
      "cell_type": "code",
      "source": [
        "# from sparse label to categorical\n",
        "num_labels = len(np.unique(y_train))\n",
        "y_train = to_categorical(y_train)\n",
        "y_test = to_categorical(y_test)\n",
        "\n",
        "# reshape input images\n",
        "image_size = x_train.shape[1]\n",
        "x_train = np.reshape(x_train,[-1, image_size, image_size, 1])\n",
        "x_test = np.reshape(x_test,[-1, image_size, image_size, 1])"
      ],
      "metadata": {
        "id": "IodxfzySFoQm"
      },
      "execution_count": 4,
      "outputs": []
    },
    {
      "cell_type": "code",
      "source": [
        "# This ensures that the model is deterministic\n",
        "set_random_seed(seed=6)\n",
        "\n",
        "# The model implementations is as described in [1]. The Model is a 5 weight layer \n",
        "# network also known as LeNet-5. We have chosen to implement the network with a PReLU\n",
        "# activation function as introduced by Kaiming He et al [2]. The PReLu function\n",
        "# is said to have the capability of reducing overfitting and assists in model\n",
        "# convergence [2]. The network will be used to classify MNIST digits. In contrast \n",
        "# to the original network in [1] we have opted for using the ADAM optimizer instead\n",
        "# of SGD.\n",
        "\n",
        "model_input = Input(shape=(28, 28, 1))\n",
        "# (28, 28, 1)\n",
        "x = ZeroPadding2D(padding=(2, 2), data_format='channels_last')(model_input)\n",
        "# (32, 32, 1)\n",
        "x = Conv2D(filters=6, kernel_size=(5,5), strides=(1, 1))(x)\n",
        "# (28, 28, 6)\n",
        "x = PReLU()(x)\n",
        "x = AveragePooling2D(pool_size=(2, 2), strides=(2, 2))(x)\n",
        "# (14, 14, 6)\n",
        "x = Conv2D(filters=16, kernel_size=(5,5), strides=(1, 1))(x)\n",
        "# (10, 10, 16)\n",
        "x = PReLU()(x)\n",
        "x = AveragePooling2D(pool_size=(2, 2), strides=(2, 2))(x)\n",
        "# (5, 5, 16)\n",
        "x = Conv2D(filters=120, kernel_size=(5,5), strides=(1, 1), activation='tanh')(x)\n",
        "# (1, 1, 120)\n",
        "x = PReLU()(x)\n",
        "x = Flatten()(x)\n",
        "# (120)\n",
        "x = Dense(units=84, activation='tanh')(x)\n",
        "# (84)\n",
        "model_output  = Dense(units=10, activation='softmax')(x)\n",
        "# (10)\n",
        "\n",
        "# Create a Keras Model\n",
        "LeNet = Model(inputs=model_input , outputs=model_output)\n",
        "LeNet.summary()\n",
        "LeNet.compile(loss='categorical_crossentropy',\n",
        "              optimizer='adam',\n",
        "              metrics=['accuracy'])\n",
        "\n",
        "# Train the model with input images and labels\n",
        "LeNet.fit(x=x_train,\n",
        "          y=y_train,\n",
        "          validation_data=(x_test, y_test),\n",
        "          epochs=10,\n",
        "          batch_size=32)\n",
        "\n",
        "# model accuracy on test dataset\n",
        "score = LeNet.evaluate(x_test,\n",
        "                       y_test,\n",
        "                       batch_size=32,\n",
        "                       verbose=0)\n",
        "print(\"\\nTest accuracy: %.1f%%\" % (100.0 * score[1]))"
      ],
      "metadata": {
        "colab": {
          "base_uri": "https://localhost:8080/"
        },
        "id": "ZdLgZMyHFto1",
        "outputId": "8889566d-d102-40f1-b780-aeb162309131"
      },
      "execution_count": 7,
      "outputs": [
        {
          "output_type": "stream",
          "name": "stdout",
          "text": [
            "Model: \"model_1\"\n",
            "_________________________________________________________________\n",
            " Layer (type)                Output Shape              Param #   \n",
            "=================================================================\n",
            " input_2 (InputLayer)        [(None, 28, 28, 1)]       0         \n",
            "                                                                 \n",
            " zero_padding2d_1 (ZeroPaddi  (None, 32, 32, 1)        0         \n",
            " ng2D)                                                           \n",
            "                                                                 \n",
            " conv2d_3 (Conv2D)           (None, 28, 28, 6)         156       \n",
            "                                                                 \n",
            " p_re_lu_3 (PReLU)           (None, 28, 28, 6)         4704      \n",
            "                                                                 \n",
            " average_pooling2d_2 (Averag  (None, 14, 14, 6)        0         \n",
            " ePooling2D)                                                     \n",
            "                                                                 \n",
            " conv2d_4 (Conv2D)           (None, 10, 10, 16)        2416      \n",
            "                                                                 \n",
            " p_re_lu_4 (PReLU)           (None, 10, 10, 16)        1600      \n",
            "                                                                 \n",
            " average_pooling2d_3 (Averag  (None, 5, 5, 16)         0         \n",
            " ePooling2D)                                                     \n",
            "                                                                 \n",
            " conv2d_5 (Conv2D)           (None, 1, 1, 120)         48120     \n",
            "                                                                 \n",
            " p_re_lu_5 (PReLU)           (None, 1, 1, 120)         120       \n",
            "                                                                 \n",
            " flatten_1 (Flatten)         (None, 120)               0         \n",
            "                                                                 \n",
            " dense_2 (Dense)             (None, 84)                10164     \n",
            "                                                                 \n",
            " dense_3 (Dense)             (None, 10)                850       \n",
            "                                                                 \n",
            "=================================================================\n",
            "Total params: 68,130\n",
            "Trainable params: 68,130\n",
            "Non-trainable params: 0\n",
            "_________________________________________________________________\n",
            "Epoch 1/10\n",
            "1875/1875 [==============================] - 56s 28ms/step - loss: 0.1373 - accuracy: 0.9620 - val_loss: 0.0542 - val_accuracy: 0.9829\n",
            "Epoch 2/10\n",
            "1875/1875 [==============================] - 52s 28ms/step - loss: 0.0681 - accuracy: 0.9792 - val_loss: 0.0596 - val_accuracy: 0.9831\n",
            "Epoch 3/10\n",
            "1875/1875 [==============================] - 53s 28ms/step - loss: 0.0620 - accuracy: 0.9810 - val_loss: 0.0494 - val_accuracy: 0.9837\n",
            "Epoch 4/10\n",
            "1875/1875 [==============================] - 51s 27ms/step - loss: 0.0593 - accuracy: 0.9818 - val_loss: 0.0575 - val_accuracy: 0.9827\n",
            "Epoch 5/10\n",
            "1875/1875 [==============================] - 51s 27ms/step - loss: 0.0565 - accuracy: 0.9825 - val_loss: 0.0544 - val_accuracy: 0.9826\n",
            "Epoch 6/10\n",
            "1875/1875 [==============================] - 53s 28ms/step - loss: 0.0631 - accuracy: 0.9803 - val_loss: 0.0587 - val_accuracy: 0.9822\n",
            "Epoch 7/10\n",
            "1875/1875 [==============================] - 53s 28ms/step - loss: 0.0586 - accuracy: 0.9815 - val_loss: 0.0625 - val_accuracy: 0.9803\n",
            "Epoch 8/10\n",
            "1875/1875 [==============================] - 50s 26ms/step - loss: 0.0608 - accuracy: 0.9811 - val_loss: 0.0625 - val_accuracy: 0.9806\n",
            "Epoch 9/10\n",
            "1875/1875 [==============================] - 53s 28ms/step - loss: 0.0640 - accuracy: 0.9800 - val_loss: 0.0539 - val_accuracy: 0.9836\n",
            "Epoch 10/10\n",
            "1875/1875 [==============================] - 53s 28ms/step - loss: 0.0655 - accuracy: 0.9798 - val_loss: 0.0570 - val_accuracy: 0.9827\n",
            "\n",
            "Test accuracy: 98.3%\n"
          ]
        }
      ]
    }
  ]
}